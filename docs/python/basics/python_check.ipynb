{
 "cells": [
  {
   "cell_type": "code",
   "execution_count": 1,
   "metadata": {},
   "outputs": [
    {
     "name": "stdout",
     "output_type": "stream",
     "text": [
      "Python 3.8.5\r\n"
     ]
    }
   ],
   "source": [
    "!python --version "
   ]
  },
  {
   "cell_type": "code",
   "execution_count": 2,
   "metadata": {},
   "outputs": [
    {
     "name": "stdout",
     "output_type": "stream",
     "text": [
      "Package            Version\r\n",
      "------------------ -------------------\r\n",
      "appnope            0.1.0\r\n",
      "argon2-cffi        20.1.0\r\n",
      "attrs              19.3.0\r\n",
      "backcall           0.2.0\r\n",
      "bleach             3.1.5\r\n",
      "certifi            2020.6.20\r\n",
      "cffi               1.14.1\r\n",
      "decorator          4.4.2\r\n",
      "defusedxml         0.6.0\r\n",
      "entrypoints        0.3\r\n",
      "ipykernel          5.3.4\r\n",
      "ipython            7.16.1\r\n",
      "ipython-genutils   0.2.0\r\n",
      "ipywidgets         7.5.1\r\n",
      "jedi               0.17.2\r\n",
      "Jinja2             2.11.2\r\n",
      "jsonschema         3.2.0\r\n",
      "jupyter            1.0.0\r\n",
      "jupyter-client     6.1.6\r\n",
      "jupyter-console    6.1.0\r\n",
      "jupyter-core       4.6.3\r\n",
      "MarkupSafe         1.1.1\r\n",
      "mistune            0.8.4\r\n",
      "nbconvert          5.6.1\r\n",
      "nbformat           5.0.7\r\n",
      "notebook           6.1.1\r\n",
      "packaging          20.4\r\n",
      "pandocfilters      1.4.2\r\n",
      "parso              0.7.0\r\n",
      "pexpect            4.8.0\r\n",
      "pickleshare        0.7.5\r\n",
      "pip                20.1.1\r\n",
      "prometheus-client  0.8.0\r\n",
      "prompt-toolkit     3.0.5\r\n",
      "ptyprocess         0.6.0\r\n",
      "pycparser          2.20\r\n",
      "Pygments           2.6.1\r\n",
      "pyparsing          2.4.7\r\n",
      "pyrsistent         0.16.0\r\n",
      "python-dateutil    2.8.1\r\n",
      "pyzmq              19.0.1\r\n",
      "qtconsole          4.7.5\r\n",
      "QtPy               1.9.0\r\n",
      "Send2Trash         1.5.0\r\n",
      "setuptools         49.2.1.post20200807\r\n",
      "six                1.15.0\r\n",
      "terminado          0.8.3\r\n",
      "testpath           0.4.4\r\n",
      "tornado            6.0.4\r\n",
      "traitlets          4.3.3\r\n",
      "wcwidth            0.2.5\r\n",
      "webencodings       0.5.1\r\n",
      "wheel              0.34.2\r\n",
      "widgetsnbextension 3.5.1\r\n"
     ]
    }
   ],
   "source": [
    "!pip list"
   ]
  },
  {
   "cell_type": "code",
   "execution_count": null,
   "metadata": {},
   "outputs": [],
   "source": []
  }
 ],
 "metadata": {
  "kernelspec": {
   "display_name": "kagglevil",
   "language": "python",
   "name": "kagglevil"
  },
  "language_info": {
   "codemirror_mode": {
    "name": "ipython",
    "version": 3
   },
   "file_extension": ".py",
   "mimetype": "text/x-python",
   "name": "python",
   "nbconvert_exporter": "python",
   "pygments_lexer": "ipython3",
   "version": "3.8.5"
  }
 },
 "nbformat": 4,
 "nbformat_minor": 4
}
